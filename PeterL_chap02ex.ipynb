{
  "nbformat": 4,
  "nbformat_minor": 0,
  "metadata": {
    "kernelspec": {
      "display_name": "Python 3",
      "language": "python",
      "name": "python3"
    },
    "language_info": {
      "codemirror_mode": {
        "name": "ipython",
        "version": 3
      },
      "file_extension": ".py",
      "mimetype": "text/x-python",
      "name": "python",
      "nbconvert_exporter": "python",
      "pygments_lexer": "ipython3",
      "version": "3.6.6"
    },
    "colab": {
      "name": "PeterL chap02ex.ipynb",
      "version": "0.3.2",
      "provenance": [],
      "collapsed_sections": [],
      "include_colab_link": true
    }
  },
  "cells": [
    {
      "cell_type": "markdown",
      "metadata": {
        "id": "view-in-github",
        "colab_type": "text"
      },
      "source": [
        "<a href=\"https://colab.research.google.com/github/Peadarpol/try_git/blob/master/PeterL_chap02ex.ipynb\" target=\"_parent\"><img src=\"https://colab.research.google.com/assets/colab-badge.svg\" alt=\"Open In Colab\"/></a>"
      ]
    },
    {
      "cell_type": "code",
      "metadata": {
        "id": "Siiv9DGRRuK8",
        "colab_type": "code",
        "colab": {
          "base_uri": "https://localhost:8080/",
          "height": 124
        },
        "outputId": "1358ede0-56df-433f-d82f-7097cb58ed8b"
      },
      "source": [
        "#setup thinkstats on colabs.\n",
        "\n",
        "!git clone https://github.com/AllenDowney/ThinkStats2\n",
        "!cp -r /content/ThinkStats2/code/* ."
      ],
      "execution_count": 2,
      "outputs": [
        {
          "output_type": "stream",
          "text": [
            "Cloning into 'ThinkStats2'...\n",
            "remote: Enumerating objects: 2628, done.\u001b[K\n",
            "remote: Total 2628 (delta 0), reused 0 (delta 0), pack-reused 2628\u001b[K\n",
            "Receiving objects: 100% (2628/2628), 171.99 MiB | 30.73 MiB/s, done.\n",
            "Resolving deltas: 100% (1480/1480), done.\n",
            "Checking out files: 100% (482/482), done.\n"
          ],
          "name": "stdout"
        }
      ]
    },
    {
      "cell_type": "markdown",
      "metadata": {
        "id": "YNmXIUzPRrNY",
        "colab_type": "text"
      },
      "source": [
        "# Examples and Exercises from Think Stats, 2nd Edition\n",
        "\n",
        "http://thinkstats2.com\n",
        "\n",
        "Copyright 2016 Allen B. Downey\n",
        "\n",
        "MIT License: https://opensource.org/licenses/MIT\n"
      ]
    },
    {
      "cell_type": "code",
      "metadata": {
        "id": "z-SgohKsRrNZ",
        "colab_type": "code",
        "colab": {}
      },
      "source": [
        "from __future__ import print_function, division\n",
        "\n",
        "%matplotlib inline\n",
        "\n",
        "import numpy as np\n",
        "\n",
        "import nsfg\n",
        "import first"
      ],
      "execution_count": 0,
      "outputs": []
    },
    {
      "cell_type": "markdown",
      "metadata": {
        "id": "hrLd37OIRrNc",
        "colab_type": "text"
      },
      "source": [
        "Given a list of values, there are several ways to count the frequency of each value."
      ]
    },
    {
      "cell_type": "code",
      "metadata": {
        "id": "7Ec51cRtRrNc",
        "colab_type": "code",
        "colab": {}
      },
      "source": [
        "t = [1, 2, 2, 3, 5]"
      ],
      "execution_count": 0,
      "outputs": []
    },
    {
      "cell_type": "markdown",
      "metadata": {
        "id": "F6QnSX_bRrNq",
        "colab_type": "text"
      },
      "source": [
        "You can use a Python dictionary:"
      ]
    },
    {
      "cell_type": "code",
      "metadata": {
        "id": "JfgopApXRrNr",
        "colab_type": "code",
        "colab": {
          "base_uri": "https://localhost:8080/",
          "height": 35
        },
        "outputId": "5bdc6ace-d903-4957-a1b2-d270fe8c21e6"
      },
      "source": [
        "hist = {}\n",
        "for x in t:\n",
        "    hist[x] = hist.get(x, 0) + 1\n",
        "    \n",
        "hist"
      ],
      "execution_count": 5,
      "outputs": [
        {
          "output_type": "execute_result",
          "data": {
            "text/plain": [
              "{1: 1, 2: 2, 3: 1, 5: 1}"
            ]
          },
          "metadata": {
            "tags": []
          },
          "execution_count": 5
        }
      ]
    },
    {
      "cell_type": "markdown",
      "metadata": {
        "id": "5BuP8QiORrNu",
        "colab_type": "text"
      },
      "source": [
        "You can use a `Counter` (which is a dictionary with additional methods):"
      ]
    },
    {
      "cell_type": "code",
      "metadata": {
        "id": "-empdGmuRrNv",
        "colab_type": "code",
        "colab": {
          "base_uri": "https://localhost:8080/",
          "height": 35
        },
        "outputId": "cbc6e078-23ed-47cc-83ec-bc158d067d53"
      },
      "source": [
        "from collections import Counter\n",
        "counter = Counter(t)\n",
        "counter"
      ],
      "execution_count": 6,
      "outputs": [
        {
          "output_type": "execute_result",
          "data": {
            "text/plain": [
              "Counter({1: 1, 2: 2, 3: 1, 5: 1})"
            ]
          },
          "metadata": {
            "tags": []
          },
          "execution_count": 6
        }
      ]
    },
    {
      "cell_type": "markdown",
      "metadata": {
        "id": "i-IoyAGoRrNx",
        "colab_type": "text"
      },
      "source": [
        "Or you can use the `Hist` object provided by `thinkstats2`:"
      ]
    },
    {
      "cell_type": "code",
      "metadata": {
        "id": "YXvSLTmiRrNx",
        "colab_type": "code",
        "colab": {
          "base_uri": "https://localhost:8080/",
          "height": 35
        },
        "outputId": "db3b006f-9190-40dc-faa6-dd7665f897e2"
      },
      "source": [
        "import thinkstats2\n",
        "hist = thinkstats2.Hist([1, 2, 2, 3, 5])\n",
        "hist"
      ],
      "execution_count": 7,
      "outputs": [
        {
          "output_type": "execute_result",
          "data": {
            "text/plain": [
              "Hist({1: 1, 2: 2, 3: 1, 5: 1})"
            ]
          },
          "metadata": {
            "tags": []
          },
          "execution_count": 7
        }
      ]
    },
    {
      "cell_type": "markdown",
      "metadata": {
        "id": "XRTK8YE3RrNz",
        "colab_type": "text"
      },
      "source": [
        "`Hist` provides `Freq`, which looks up the frequency of a value."
      ]
    },
    {
      "cell_type": "code",
      "metadata": {
        "id": "R6KTcGMGRrN0",
        "colab_type": "code",
        "colab": {
          "base_uri": "https://localhost:8080/",
          "height": 35
        },
        "outputId": "2e025216-be82-4d92-d5d5-2cd48ab1e1a0"
      },
      "source": [
        "hist.Freq(2)"
      ],
      "execution_count": 8,
      "outputs": [
        {
          "output_type": "execute_result",
          "data": {
            "text/plain": [
              "2"
            ]
          },
          "metadata": {
            "tags": []
          },
          "execution_count": 8
        }
      ]
    },
    {
      "cell_type": "markdown",
      "metadata": {
        "id": "Zz8ucsMuRrN5",
        "colab_type": "text"
      },
      "source": [
        "You can also use the bracket operator, which does the same thing."
      ]
    },
    {
      "cell_type": "code",
      "metadata": {
        "id": "oxa8jw0XRrN6",
        "colab_type": "code",
        "colab": {
          "base_uri": "https://localhost:8080/",
          "height": 35
        },
        "outputId": "d3981443-72b8-476d-f862-577f12951faf"
      },
      "source": [
        "hist[2]"
      ],
      "execution_count": 9,
      "outputs": [
        {
          "output_type": "execute_result",
          "data": {
            "text/plain": [
              "2"
            ]
          },
          "metadata": {
            "tags": []
          },
          "execution_count": 9
        }
      ]
    },
    {
      "cell_type": "markdown",
      "metadata": {
        "id": "xAfoCrTjRrN8",
        "colab_type": "text"
      },
      "source": [
        "If the value does not appear, it has frequency 0."
      ]
    },
    {
      "cell_type": "code",
      "metadata": {
        "id": "-cWwPjAdRrN-",
        "colab_type": "code",
        "colab": {
          "base_uri": "https://localhost:8080/",
          "height": 35
        },
        "outputId": "2242142b-dea8-4af7-e604-9bcbd33f30de"
      },
      "source": [
        "hist[4]"
      ],
      "execution_count": 10,
      "outputs": [
        {
          "output_type": "execute_result",
          "data": {
            "text/plain": [
              "0"
            ]
          },
          "metadata": {
            "tags": []
          },
          "execution_count": 10
        }
      ]
    },
    {
      "cell_type": "markdown",
      "metadata": {
        "id": "5MUkf5T4RrOA",
        "colab_type": "text"
      },
      "source": [
        "The `Values` method returns the values:"
      ]
    },
    {
      "cell_type": "code",
      "metadata": {
        "id": "UOgpcOEIRrOA",
        "colab_type": "code",
        "colab": {
          "base_uri": "https://localhost:8080/",
          "height": 35
        },
        "outputId": "05141773-e549-4581-e907-641fc5ff2fcc"
      },
      "source": [
        "hist.Values()"
      ],
      "execution_count": 11,
      "outputs": [
        {
          "output_type": "execute_result",
          "data": {
            "text/plain": [
              "dict_keys([1, 2, 3, 5])"
            ]
          },
          "metadata": {
            "tags": []
          },
          "execution_count": 11
        }
      ]
    },
    {
      "cell_type": "markdown",
      "metadata": {
        "id": "6cNTXSBDRrOD",
        "colab_type": "text"
      },
      "source": [
        "So you can iterate the values and their frequencies like this:"
      ]
    },
    {
      "cell_type": "code",
      "metadata": {
        "id": "aA5sVrDIRrOE",
        "colab_type": "code",
        "colab": {
          "base_uri": "https://localhost:8080/",
          "height": 88
        },
        "outputId": "54cb0756-3372-473d-e7bc-603d79673f51"
      },
      "source": [
        "for val in sorted(hist.Values()):\n",
        "    print(val, hist[val])"
      ],
      "execution_count": 12,
      "outputs": [
        {
          "output_type": "stream",
          "text": [
            "1 1\n",
            "2 2\n",
            "3 1\n",
            "5 1\n"
          ],
          "name": "stdout"
        }
      ]
    },
    {
      "cell_type": "markdown",
      "metadata": {
        "id": "KOIWJOPWRrOF",
        "colab_type": "text"
      },
      "source": [
        "Or you can use the `Items` method:"
      ]
    },
    {
      "cell_type": "code",
      "metadata": {
        "id": "s1FLTpttRrOG",
        "colab_type": "code",
        "colab": {
          "base_uri": "https://localhost:8080/",
          "height": 88
        },
        "outputId": "87f037a6-c5e5-420f-ced3-44ef0cd60b88"
      },
      "source": [
        "for val, freq in hist.Items():\n",
        "     print(val, freq)"
      ],
      "execution_count": 13,
      "outputs": [
        {
          "output_type": "stream",
          "text": [
            "1 1\n",
            "2 2\n",
            "3 1\n",
            "5 1\n"
          ],
          "name": "stdout"
        }
      ]
    },
    {
      "cell_type": "markdown",
      "metadata": {
        "id": "LoXpRosZRrOI",
        "colab_type": "text"
      },
      "source": [
        "`thinkplot` is a wrapper for `matplotlib` that provides functions that work with the objects in `thinkstats2`.\n",
        "\n",
        "For example `Hist` plots the values and their frequencies as a bar graph.\n",
        "\n",
        "`Config` takes parameters that label the x and y axes, among other things."
      ]
    },
    {
      "cell_type": "code",
      "metadata": {
        "id": "ivEx7XZJRrOI",
        "colab_type": "code",
        "colab": {
          "base_uri": "https://localhost:8080/",
          "height": 283
        },
        "outputId": "fdefbc17-075c-419d-9806-d39309edc06e"
      },
      "source": [
        "import thinkplot\n",
        "thinkplot.Hist(hist)\n",
        "thinkplot.Config(xlabel='value', ylabel='frequency')"
      ],
      "execution_count": 14,
      "outputs": [
        {
          "output_type": "display_data",
          "data": {
            "image/png": "[encoded data removed]",
            "text/plain": [
              "<Figure size 432x288 with 1 Axes>"
            ]
          },
          "metadata": {
            "tags": []
          }
        }
      ]
    },
    {
      "cell_type": "markdown",
      "metadata": {
        "id": "J_kDJaa7RrOK",
        "colab_type": "text"
      },
      "source": [
        "As an example, I'll replicate some of the figures from the book.\n",
        "\n",
        "First, I'll load the data from the pregnancy file and select the records for live births."
      ]
    },
    {
      "cell_type": "code",
      "metadata": {
        "id": "dApBw4ZnRrOK",
        "colab_type": "code",
        "colab": {}
      },
      "source": [
        "preg = nsfg.ReadFemPreg()\n",
        "live = preg[preg.outcome == 1]"
      ],
      "execution_count": 0,
      "outputs": []
    },
    {
      "cell_type": "markdown",
      "metadata": {
        "id": "yE-b1DIjRrOM",
        "colab_type": "text"
      },
      "source": [
        "Here's the histogram of birth weights in pounds.  Notice that `Hist` works with anything iterable, including a Pandas Series.  The `label` attribute appears in the legend when you plot the `Hist`. "
      ]
    },
    {
      "cell_type": "code",
      "metadata": {
        "id": "V7BhbidCRrOM",
        "colab_type": "code",
        "colab": {
          "base_uri": "https://localhost:8080/",
          "height": 283
        },
        "outputId": "548f70eb-13c6-45c4-aebf-613c3fea8824"
      },
      "source": [
        "hist = thinkstats2.Hist(live.birthwgt_lb, label='birthwgt_lb')\n",
        "thinkplot.Hist(hist)\n",
        "thinkplot.Config(xlabel='Birth weight (pounds)', ylabel='Count')"
      ],
      "execution_count": 16,
      "outputs": [
        {
          "output_type": "display_data",
          "data": {
            "image/png": "[encoded data removed]",
            "text/plain": [
              "<Figure size 432x288 with 1 Axes>"
            ]
          },
          "metadata": {
            "tags": []
          }
        }
      ]
    },
    {
      "cell_type": "markdown",
      "metadata": {
        "id": "VNj1qaKORrOO",
        "colab_type": "text"
      },
      "source": [
        "Before plotting the ages, I'll apply `floor` to round down:"
      ]
    },
    {
      "cell_type": "code",
      "metadata": {
        "id": "Gvyb7DwoRrOO",
        "colab_type": "code",
        "colab": {}
      },
      "source": [
        "ages = np.floor(live.agepreg)"
      ],
      "execution_count": 0,
      "outputs": []
    },
    {
      "cell_type": "code",
      "metadata": {
        "id": "IebLw2qPRrOQ",
        "colab_type": "code",
        "colab": {
          "base_uri": "https://localhost:8080/",
          "height": 283
        },
        "outputId": "2eef227b-52ef-4ecd-a041-35fa58249a86"
      },
      "source": [
        "hist = thinkstats2.Hist(ages, label='agepreg')\n",
        "thinkplot.Hist(hist)\n",
        "thinkplot.Config(xlabel='years', ylabel='Count')"
      ],
      "execution_count": 18,
      "outputs": [
        {
          "output_type": "display_data",
          "data": {
            "image/png": "[encoded data removed]",
            "text/plain": [
              "<Figure size 432x288 with 1 Axes>"
            ]
          },
          "metadata": {
            "tags": []
          }
        }
      ]
    },
    {
      "cell_type": "markdown",
      "metadata": {
        "id": "WUiYtxwmRrOT",
        "colab_type": "text"
      },
      "source": [
        "As an exercise, plot the histogram of pregnancy lengths (column `prglngth`)."
      ]
    },
    {
      "cell_type": "code",
      "metadata": {
        "id": "edc05JgmRrOT",
        "colab_type": "code",
        "colab": {
          "base_uri": "https://localhost:8080/",
          "height": 283
        },
        "outputId": "df937edd-c8a5-406a-cc4c-08d96f47d465"
      },
      "source": [
        "# Solution goes here\n",
        "lengths = np.floor(live.prglngth)\n",
        "hist = thinkstats2.Hist(lengths, label='prglngth')\n",
        "thinkplot.Hist(hist)\n",
        "thinkplot.Config(xlabel='weeks', ylabel='Count')"
      ],
      "execution_count": 20,
      "outputs": [
        {
          "output_type": "display_data",
          "data": {
            "image/png": "[encoded data removed]",
            "text/plain": [
              "<Figure size 432x288 with 1 Axes>"
            ]
          },
          "metadata": {
            "tags": []
          }
        }
      ]
    },
    {
      "cell_type": "markdown",
      "metadata": {
        "id": "FWxaMwktRrOW",
        "colab_type": "text"
      },
      "source": [
        "`Hist` provides smallest, which select the lowest values and their frequencies."
      ]
    },
    {
      "cell_type": "code",
      "metadata": {
        "id": "smZISJWJRrOX",
        "colab_type": "code",
        "colab": {
          "base_uri": "https://localhost:8080/",
          "height": 195
        },
        "outputId": "d9ed309d-6373-4b80-c9a2-8b5254157672"
      },
      "source": [
        "for weeks, freq in hist.Smallest(10):\n",
        "    print(weeks, freq)"
      ],
      "execution_count": 21,
      "outputs": [
        {
          "output_type": "stream",
          "text": [
            "0.0 1\n",
            "4.0 1\n",
            "9.0 1\n",
            "13.0 1\n",
            "17.0 2\n",
            "18.0 1\n",
            "19.0 1\n",
            "20.0 1\n",
            "21.0 2\n",
            "22.0 7\n"
          ],
          "name": "stdout"
        }
      ]
    },
    {
      "cell_type": "markdown",
      "metadata": {
        "id": "Tk3EG5CiRrOY",
        "colab_type": "text"
      },
      "source": [
        "Use `Largest` to display the longest pregnancy lengths."
      ]
    },
    {
      "cell_type": "code",
      "metadata": {
        "id": "uT5dQTE0RrOY",
        "colab_type": "code",
        "colab": {
          "base_uri": "https://localhost:8080/",
          "height": 195
        },
        "outputId": "418d027c-0164-41d2-ae43-235ce4c28c17"
      },
      "source": [
        "# Solution goes here\n",
        "\n",
        "for weeks, freq in hist.Largest(10):\n",
        "    print(weeks, freq)"
      ],
      "execution_count": 22,
      "outputs": [
        {
          "output_type": "stream",
          "text": [
            "50.0 2\n",
            "48.0 7\n",
            "47.0 1\n",
            "46.0 1\n",
            "45.0 10\n",
            "44.0 46\n",
            "43.0 148\n",
            "42.0 328\n",
            "41.0 587\n",
            "40.0 1116\n"
          ],
          "name": "stdout"
        }
      ]
    },
    {
      "cell_type": "markdown",
      "metadata": {
        "id": "Kp-_vFTNRrOa",
        "colab_type": "text"
      },
      "source": [
        "From live births, we can select first babies and others using `birthord`, then compute histograms of pregnancy length for the two groups."
      ]
    },
    {
      "cell_type": "code",
      "metadata": {
        "id": "byq4dLU1RrOa",
        "colab_type": "code",
        "colab": {}
      },
      "source": [
        "firsts = live[live.birthord == 1]\n",
        "others = live[live.birthord != 1]\n",
        "\n",
        "first_hist = thinkstats2.Hist(firsts.prglngth, label='first')\n",
        "other_hist = thinkstats2.Hist(others.prglngth, label='other')"
      ],
      "execution_count": 0,
      "outputs": []
    },
    {
      "cell_type": "markdown",
      "metadata": {
        "id": "p4JIhPU6RrOc",
        "colab_type": "text"
      },
      "source": [
        "We can use `width` and `align` to plot two histograms side-by-side."
      ]
    },
    {
      "cell_type": "code",
      "metadata": {
        "id": "-AAJskskRrOd",
        "colab_type": "code",
        "colab": {
          "base_uri": "https://localhost:8080/",
          "height": 283
        },
        "outputId": "58e11c92-77be-4d85-f5e9-cc539366b2a3"
      },
      "source": [
        "width = 0.45\n",
        "thinkplot.PrePlot(2)\n",
        "thinkplot.Hist(first_hist, align='right', width=width)\n",
        "thinkplot.Hist(other_hist, align='left', width=width)\n",
        "thinkplot.Config(xlabel='weeks', ylabel='Count', xlim=[27, 46])"
      ],
      "execution_count": 24,
      "outputs": [
        {
          "output_type": "display_data",
          "data": {
            "image/png": "[encoded data removed]",
            "text/plain": [
              "<Figure size 432x288 with 1 Axes>"
            ]
          },
          "metadata": {
            "tags": []
          }
        }
      ]
    },
    {
      "cell_type": "markdown",
      "metadata": {
        "id": "SuqcNux2RrOf",
        "colab_type": "text"
      },
      "source": [
        "`Series` provides methods to compute summary statistics:"
      ]
    },
    {
      "cell_type": "code",
      "metadata": {
        "id": "0gNheqA-RrOf",
        "colab_type": "code",
        "colab": {}
      },
      "source": [
        "mean = live.prglngth.mean()\n",
        "var = live.prglngth.var()\n",
        "std = live.prglngth.std()"
      ],
      "execution_count": 0,
      "outputs": []
    },
    {
      "cell_type": "markdown",
      "metadata": {
        "id": "KYhOk2UjRrOg",
        "colab_type": "text"
      },
      "source": [
        "Here are the mean and standard deviation:"
      ]
    },
    {
      "cell_type": "code",
      "metadata": {
        "id": "JG56gs-aRrOh",
        "colab_type": "code",
        "colab": {
          "base_uri": "https://localhost:8080/",
          "height": 35
        },
        "outputId": "d29ce85e-fc38-488f-b9fb-6d050dc52943"
      },
      "source": [
        "mean, std"
      ],
      "execution_count": 26,
      "outputs": [
        {
          "output_type": "execute_result",
          "data": {
            "text/plain": [
              "(38.56055968517709, 2.702343810070593)"
            ]
          },
          "metadata": {
            "tags": []
          },
          "execution_count": 26
        }
      ]
    },
    {
      "cell_type": "markdown",
      "metadata": {
        "id": "5dbSlz-MRrOi",
        "colab_type": "text"
      },
      "source": [
        "As an exercise, confirm that `std` is the square root of `var`:"
      ]
    },
    {
      "cell_type": "code",
      "metadata": {
        "id": "0qAtQrvpRrOj",
        "colab_type": "code",
        "colab": {
          "base_uri": "https://localhost:8080/",
          "height": 35
        },
        "outputId": "f854df33-7819-4ae8-cec4-1418b110f17a"
      },
      "source": [
        "# Solution goes here\n",
        "stdsquared=std*std\n",
        "stdsquared, var"
      ],
      "execution_count": 27,
      "outputs": [
        {
          "output_type": "execute_result",
          "data": {
            "text/plain": [
              "(7.302662067826851, 7.302662067826851)"
            ]
          },
          "metadata": {
            "tags": []
          },
          "execution_count": 27
        }
      ]
    },
    {
      "cell_type": "markdown",
      "metadata": {
        "id": "ofHgv5eSRrOk",
        "colab_type": "text"
      },
      "source": [
        "Here's are the mean pregnancy lengths for first babies and others:"
      ]
    },
    {
      "cell_type": "code",
      "metadata": {
        "id": "jI5r6s4oRrOl",
        "colab_type": "code",
        "colab": {
          "base_uri": "https://localhost:8080/",
          "height": 35
        },
        "outputId": "262546a5-0f45-46d9-f4d7-e9c107a71ed0"
      },
      "source": [
        "firsts.prglngth.mean(), others.prglngth.mean()"
      ],
      "execution_count": 28,
      "outputs": [
        {
          "output_type": "execute_result",
          "data": {
            "text/plain": [
              "(38.60095173351461, 38.52291446673706)"
            ]
          },
          "metadata": {
            "tags": []
          },
          "execution_count": 28
        }
      ]
    },
    {
      "cell_type": "markdown",
      "metadata": {
        "id": "kIF0if75RrOm",
        "colab_type": "text"
      },
      "source": [
        "And here's the difference (in weeks):"
      ]
    },
    {
      "cell_type": "code",
      "metadata": {
        "id": "Va8GmVdRRrOn",
        "colab_type": "code",
        "colab": {
          "base_uri": "https://localhost:8080/",
          "height": 35
        },
        "outputId": "b463d0f7-e456-415b-9ce5-07ea65c828c3"
      },
      "source": [
        "firsts.prglngth.mean() - others.prglngth.mean()"
      ],
      "execution_count": 29,
      "outputs": [
        {
          "output_type": "execute_result",
          "data": {
            "text/plain": [
              "0.07803726677754952"
            ]
          },
          "metadata": {
            "tags": []
          },
          "execution_count": 29
        }
      ]
    },
    {
      "cell_type": "markdown",
      "metadata": {
        "id": "ynEGCcGsRrOo",
        "colab_type": "text"
      },
      "source": [
        "This functon computes the Cohen effect size, which is the difference in means expressed in number of standard deviations:"
      ]
    },
    {
      "cell_type": "code",
      "metadata": {
        "id": "eRXIzI9wRrOp",
        "colab_type": "code",
        "colab": {}
      },
      "source": [
        "def CohenEffectSize(group1, group2):\n",
        "    \"\"\"Computes Cohen's effect size for two groups.\n",
        "    \n",
        "    group1: Series or DataFrame\n",
        "    group2: Series or DataFrame\n",
        "    \n",
        "    returns: float if the arguments are Series;\n",
        "             Series if the arguments are DataFrames\n",
        "    \"\"\"\n",
        "    diff = group1.mean() - group2.mean()\n",
        "\n",
        "    var1 = group1.var()\n",
        "    var2 = group2.var()\n",
        "    n1, n2 = len(group1), len(group2)\n",
        "\n",
        "    pooled_var = (n1 * var1 + n2 * var2) / (n1 + n2)\n",
        "    d = diff / np.sqrt(pooled_var)\n",
        "    return d"
      ],
      "execution_count": 0,
      "outputs": []
    },
    {
      "cell_type": "markdown",
      "metadata": {
        "id": "OJaApzNpRrOq",
        "colab_type": "text"
      },
      "source": [
        "Compute the Cohen effect size for the difference in pregnancy length for first babies and others."
      ]
    },
    {
      "cell_type": "code",
      "metadata": {
        "id": "AsH5Oc5oRrOq",
        "colab_type": "code",
        "colab": {
          "base_uri": "https://localhost:8080/",
          "height": 35
        },
        "outputId": "1168b30d-8350-40cb-d0cd-e7db853c33bb"
      },
      "source": [
        "# Solution goes here\n",
        "pregLengthEffectSize=CohenEffectSize(firsts.prglngth,others.prglngth)\n",
        "pregLengthEffectSize"
      ],
      "execution_count": 62,
      "outputs": [
        {
          "output_type": "execute_result",
          "data": {
            "text/plain": [
              "0.028879044654449883"
            ]
          },
          "metadata": {
            "tags": []
          },
          "execution_count": 62
        }
      ]
    },
    {
      "cell_type": "markdown",
      "metadata": {
        "collapsed": true,
        "id": "suhPoBvQRrOt",
        "colab_type": "text"
      },
      "source": [
        "## Exercises"
      ]
    },
    {
      "cell_type": "markdown",
      "metadata": {
        "id": "-45De-H8RrOt",
        "colab_type": "text"
      },
      "source": [
        "Using the variable `totalwgt_lb`, investigate whether first babies are lighter or heavier than others. \n",
        "\n",
        "Compute Cohen’s effect size to quantify the difference between the groups.  How does it compare to the difference in pregnancy length?"
      ]
    },
    {
      "cell_type": "code",
      "metadata": {
        "id": "ri2lZSlHRrOt",
        "colab_type": "code",
        "colab": {
          "base_uri": "https://localhost:8080/",
          "height": 35
        },
        "outputId": "5e855596-3b61-4de7-facd-604ca79fbd75"
      },
      "source": [
        "# Solution goes here\n",
        "'Firsts:', firsts.totalwgt_lb.mean(), \"Others: \", others.totalwgt_lb.mean()"
      ],
      "execution_count": 40,
      "outputs": [
        {
          "output_type": "execute_result",
          "data": {
            "text/plain": [
              "('Firsts:', 7.201094430437772, 'Others: ', 7.325855614973262)"
            ]
          },
          "metadata": {
            "tags": []
          },
          "execution_count": 40
        }
      ]
    },
    {
      "cell_type": "code",
      "metadata": {
        "id": "jm4mfT22RrOv",
        "colab_type": "code",
        "colab": {
          "base_uri": "https://localhost:8080/",
          "height": 35
        },
        "outputId": "e0f02632-be8f-4b68-d917-9a6bbf75ec08"
      },
      "source": [
        "# Solution goes here\n",
        "weightEffectSize=CohenEffectSize(firsts.totalwgt_lb,others.totalwgt_lb)\n",
        "weightEffectSize"
      ],
      "execution_count": 60,
      "outputs": [
        {
          "output_type": "execute_result",
          "data": {
            "text/plain": [
              "-0.088672927072602"
            ]
          },
          "metadata": {
            "tags": []
          },
          "execution_count": 60
        }
      ]
    },
    {
      "cell_type": "markdown",
      "metadata": {
        "id": "f09b4IcdRrOw",
        "colab_type": "text"
      },
      "source": [
        "For the next few exercises, we'll load the respondent file:"
      ]
    },
    {
      "cell_type": "code",
      "metadata": {
        "id": "YF23qieDRrOw",
        "colab_type": "code",
        "colab": {}
      },
      "source": [
        "resp = nsfg.ReadFemResp()"
      ],
      "execution_count": 0,
      "outputs": []
    },
    {
      "cell_type": "markdown",
      "metadata": {
        "id": "kDDjoOvwRrOy",
        "colab_type": "text"
      },
      "source": [
        "Make a histogram of <tt>totincr</tt> the total income for the respondent's family.  To interpret the codes see the [codebook](http://www.icpsr.umich.edu/nsfg6/Controller?displayPage=labelDetails&fileCode=FEM&section=R&subSec=7876&srtLabel=607543)."
      ]
    },
    {
      "cell_type": "code",
      "metadata": {
        "id": "yC2moyMsRrOy",
        "colab_type": "code",
        "colab": {
          "base_uri": "https://localhost:8080/",
          "height": 283
        },
        "outputId": "e60cc86f-874e-4fc1-9729-7333d8e92a69"
      },
      "source": [
        "# Solution goes here\n",
        "\n",
        "hist = thinkstats2.Hist(resp.totincr, label='TotIncome')\n",
        "thinkplot.Hist(hist)\n",
        "thinkplot.Config(xlabel='dollars', ylabel='Count')"
      ],
      "execution_count": 46,
      "outputs": [
        {
          "output_type": "display_data",
          "data": {
            "image/png": "[encoded data removed]",
            "text/plain": [
              "<Figure size 432x288 with 1 Axes>"
            ]
          },
          "metadata": {
            "tags": []
          }
        }
      ]
    },
    {
      "cell_type": "markdown",
      "metadata": {
        "id": "BVfX_1HwRrO0",
        "colab_type": "text"
      },
      "source": [
        "Make a histogram of <tt>age_r</tt>, the respondent's age at the time of interview."
      ]
    },
    {
      "cell_type": "code",
      "metadata": {
        "id": "cxLP1y-URrO1",
        "colab_type": "code",
        "colab": {
          "base_uri": "https://localhost:8080/",
          "height": 283
        },
        "outputId": "c8b018d2-b3e2-4023-f8fa-e08814491f7b"
      },
      "source": [
        "# Solution goes here\n",
        "hist = thinkstats2.Hist(resp.age_r, label='Age')\n",
        "thinkplot.Hist(hist)\n",
        "thinkplot.Config(xlabel='years', ylabel='Count')"
      ],
      "execution_count": 47,
      "outputs": [
        {
          "output_type": "display_data",
          "data": {
            "image/png": "[encoded data removed]",
            "text/plain": [
              "<Figure size 432x288 with 1 Axes>"
            ]
          },
          "metadata": {
            "tags": []
          }
        }
      ]
    },
    {
      "cell_type": "markdown",
      "metadata": {
        "id": "U95q6j3BRrO4",
        "colab_type": "text"
      },
      "source": [
        "Make a histogram of <tt>numfmhh</tt>, the number of people in the respondent's household."
      ]
    },
    {
      "cell_type": "code",
      "metadata": {
        "id": "MJ5R3Wo4RrO6",
        "colab_type": "code",
        "colab": {
          "base_uri": "https://localhost:8080/",
          "height": 283
        },
        "outputId": "88a1d372-ac1a-4500-a901-2abc3c519edb"
      },
      "source": [
        "# Solution goes here\n",
        "\n",
        "hist = thinkstats2.Hist(resp.numfmhh, label='No of People')\n",
        "thinkplot.Hist(hist)\n",
        "thinkplot.Config(xlabel='People', ylabel='Count')"
      ],
      "execution_count": 48,
      "outputs": [
        {
          "output_type": "display_data",
          "data": {
            "image/png": "[encoded data removed]",
            "text/plain": [
              "<Figure size 432x288 with 1 Axes>"
            ]
          },
          "metadata": {
            "tags": []
          }
        }
      ]
    },
    {
      "cell_type": "markdown",
      "metadata": {
        "id": "nTYGnBATRrPB",
        "colab_type": "text"
      },
      "source": [
        "Make a histogram of <tt>parity</tt>, the number of children borne by the respondent.  How would you describe this distribution?"
      ]
    },
    {
      "cell_type": "code",
      "metadata": {
        "id": "kSUqnHLzRrPC",
        "colab_type": "code",
        "colab": {
          "base_uri": "https://localhost:8080/",
          "height": 283
        },
        "outputId": "0da02031-55bf-4254-8eb0-914f5c790965"
      },
      "source": [
        "# Solution goes here\n",
        "\n",
        "parityHist = thinkstats2.Hist(resp.parity, label='No of People')\n",
        "thinkplot.Hist(parityHist)\n",
        "thinkplot.Config(xlabel='People', ylabel='Count')"
      ],
      "execution_count": 51,
      "outputs": [
        {
          "output_type": "display_data",
          "data": {
            "image/png": "[encoded data removed]",
            "text/plain": [
              "<Figure size 432x288 with 1 Axes>"
            ]
          },
          "metadata": {
            "tags": []
          }
        }
      ]
    },
    {
      "cell_type": "markdown",
      "metadata": {
        "id": "-L2V_z67RrPD",
        "colab_type": "text"
      },
      "source": [
        "Use Hist.Largest to find the largest values of <tt>parity</tt>."
      ]
    },
    {
      "cell_type": "code",
      "metadata": {
        "id": "JDuLToQQRrPE",
        "colab_type": "code",
        "colab": {
          "base_uri": "https://localhost:8080/",
          "height": 106
        },
        "outputId": "39d3507f-7d2e-4c3f-b389-d425ed46ee67"
      },
      "source": [
        "# Solution goes here\n",
        "for parity in hist.Largest(5):\n",
        "    print(parity)"
      ],
      "execution_count": 52,
      "outputs": [
        {
          "output_type": "stream",
          "text": [
            "(22, 1)\n",
            "(16, 1)\n",
            "(10, 3)\n",
            "(9, 2)\n",
            "(8, 8)\n"
          ],
          "name": "stdout"
        }
      ]
    },
    {
      "cell_type": "markdown",
      "metadata": {
        "id": "MYuE28RRRrPF",
        "colab_type": "text"
      },
      "source": [
        "Let's investigate whether people with higher income have higher parity.  Keep in mind that in this study, we are observing different people at different times during their lives, so this data is not the best choice for answering this question.  But for now let's take it at face value.\n",
        "\n",
        "Use <tt>totincr</tt> to select the respondents with the highest income (level 14).  Plot the histogram of <tt>parity</tt> for just the high income respondents."
      ]
    },
    {
      "cell_type": "code",
      "metadata": {
        "id": "1YS9wdP9RrPF",
        "colab_type": "code",
        "colab": {
          "base_uri": "https://localhost:8080/",
          "height": 283
        },
        "outputId": "cf91b896-146c-4e6d-c0ac-2a1c43ab1ff6"
      },
      "source": [
        "# Solution goes here\n",
        "highIncome = resp[resp.totincr == 14]\n",
        "hist = thinkstats2.Hist(highIncome.parity, label='Parity High Income')\n",
        "thinkplot.Hist(hist)\n",
        "thinkplot.Config(xlabel='People', ylabel='Count')\n",
        "\n",
        "\n"
      ],
      "execution_count": 53,
      "outputs": [
        {
          "output_type": "display_data",
          "data": {
            "image/png": "[encoded data removed]",
            "text/plain": [
              "<Figure size 432x288 with 1 Axes>"
            ]
          },
          "metadata": {
            "tags": []
          }
        }
      ]
    },
    {
      "cell_type": "markdown",
      "metadata": {
        "id": "QPKSWZbQRrPL",
        "colab_type": "text"
      },
      "source": [
        "Find the largest parities for high income respondents."
      ]
    },
    {
      "cell_type": "code",
      "metadata": {
        "id": "O6QOIDuyRrPM",
        "colab_type": "code",
        "colab": {
          "base_uri": "https://localhost:8080/",
          "height": 70
        },
        "outputId": "0ae192c7-a656-462c-f608-bfc2c0bccebb"
      },
      "source": [
        "# Solution goes here\n",
        "for parity in hist.Largest(3):\n",
        "    print(parity)"
      ],
      "execution_count": 55,
      "outputs": [
        {
          "output_type": "stream",
          "text": [
            "(8, 1)\n",
            "(7, 1)\n",
            "(5, 5)\n"
          ],
          "name": "stdout"
        }
      ]
    },
    {
      "cell_type": "markdown",
      "metadata": {
        "id": "jBmdu4-ERrPO",
        "colab_type": "text"
      },
      "source": [
        "Compare the mean <tt>parity</tt> for high income respondents and others."
      ]
    },
    {
      "cell_type": "code",
      "metadata": {
        "id": "zl6g7zt_RrPO",
        "colab_type": "code",
        "colab": {
          "base_uri": "https://localhost:8080/",
          "height": 88
        },
        "outputId": "a9c487a8-374b-4123-855f-56f6fb39a961"
      },
      "source": [
        "# Solution goes here\n",
        "otherIncome = resp[resp.totincr != 14]\n",
        "otherIncMean = otherIncome.parity.mean()\n",
        "highIncMean = highIncome.parity.mean()\n",
        "\"High Income Parity mean: \", highIncMean,\"Other Income Parity mean: \", otherIncMean"
      ],
      "execution_count": 57,
      "outputs": [
        {
          "output_type": "execute_result",
          "data": {
            "text/plain": [
              "('High Income Parity mean: ',\n",
              " 1.0758620689655172,\n",
              " 'Other Income Parity mean: ',\n",
              " 1.2495758136665125)"
            ]
          },
          "metadata": {
            "tags": []
          },
          "execution_count": 57
        }
      ]
    },
    {
      "cell_type": "markdown",
      "metadata": {
        "id": "6i-gf2oPRrPP",
        "colab_type": "text"
      },
      "source": [
        "Compute the Cohen effect size for this difference.  How does it compare with the difference in pregnancy length for first babies and others?"
      ]
    },
    {
      "cell_type": "code",
      "metadata": {
        "id": "O6d4FYbeRrPR",
        "colab_type": "code",
        "colab": {
          "base_uri": "https://localhost:8080/",
          "height": 88
        },
        "outputId": "18cb3f7e-0ebd-4360-fb48-b56c3b99d83a"
      },
      "source": [
        "# Solution goes here\n",
        "incomeParityEffectSize=CohenEffectSize(highIncome.parity,otherIncome.parity)\n",
        "\"incomeParityEffectSize\", incomeParityEffectSize,\"pregLengthEffectSize\",  pregLengthEffectSize"
      ],
      "execution_count": 63,
      "outputs": [
        {
          "output_type": "execute_result",
          "data": {
            "text/plain": [
              "('incomeParityEffectSize',\n",
              " -0.1251185531466061,\n",
              " 'pregLengthEffectSize',\n",
              " 0.028879044654449883)"
            ]
          },
          "metadata": {
            "tags": []
          },
          "execution_count": 63
        }
      ]
    },
    {
      "cell_type": "code",
      "metadata": {
        "id": "lM67B1jFRrPV",
        "colab_type": "code",
        "colab": {}
      },
      "source": [
        ""
      ],
      "execution_count": 0,
      "outputs": []
    }
  ]
}